{
 "cells": [
  {
   "cell_type": "code",
   "execution_count": 3,
   "id": "12f155d6-f024-4278-9db8-88671e3026da",
   "metadata": {},
   "outputs": [],
   "source": [
    "from datetime import date\n",
    "\n",
    "subjects = [\n",
    "    {\n",
    "        \"subject_id\": \"rbndt001\",\n",
    "        \"name\": \"Eléa\",\n",
    "        \"sex\": \"f\",\n",
    "        \"birth_date\": date(1968, 3, 1),\n",
    "    },\n",
    "    {\n",
    "        \"subject_id\": \"rbndt002\",\n",
    "        \"name\": \"Païkan\",\n",
    "        \"sex\": \"m\",\n",
    "        \"birth_date\": date(1968, 3, 2),\n",
    "    },\n",
    "    {\n",
    "        \"subject_id\": \"rbndt003\",\n",
    "        \"name\": \"Lukos\",\n",
    "        \"sex\": \"m\",\n",
    "        \"birth_date\": date(1968, 3, 3),\n",
    "    },\n",
    "]\n",
    "\n",
    "images = [\n",
    "    {\n",
    "        \"subject_id\": \"rbndt001\",\n",
    "        \"acquisition_type\": \"t1_mri\",\n",
    "        \"tags\": [\"image\", \"mri\", \"t1\", \"acquisition\"],\n",
    "        \"format\": \"DICOM\",\n",
    "        \"files\": [\n",
    "            \"/somewhere/d345653/acq0001.dcm\",\n",
    "            \"/somewhere/d345653/acq0002.dcm\",\n",
    "            \"/somewhere/d345653/acq0003.dcm\",\n",
    "            \"/somewhere/d345653/acq0004.dcm\",\n",
    "        ],\n",
    "        \"date\": date(2022, 3, 28),\n",
    "    },\n",
    "    {\n",
    "        \"subject_id\": \"rbndt001\",\n",
    "        \"acquisition_type\": \"t2_mri\",\n",
    "        \"tags\": [\"image\", \"mri\", \"T2\", \"acquisition\"],\n",
    "        \"format\": \"DICOM\",\n",
    "        \"files\": [\n",
    "            \"/somewhere/e465475/acq0001.dcm\",\n",
    "            \"/somewhere/e465475/acq0002.dcm\",\n",
    "            \"/somewhere/e465475/acq0003.dcm\",\n",
    "            \"/somewhere/e465475/acq0004.dcm\",\n",
    "        ],\n",
    "        \"date\": date(2022, 3, 28),\n",
    "    },\n",
    "    {\n",
    "        \"subject_id\": \"rbndt002\",\n",
    "        \"acquisition_type\": \"t1_mri\",\n",
    "        \"tags\": [\"image\", \"mri\", \"t1\", \"acquisition\"],\n",
    "        \"format\": \"DICOM\",\n",
    "        \"files\": [\n",
    "            \"/somewhere/f569012/acq0001.dcm\",\n",
    "            \"/somewhere/f569012/acq0002.dcm\",\n",
    "            \"/somewhere/f569012/acq0003.dcm\",\n",
    "            \"/somewhere/f569012/acq0004.dcm\",\n",
    "        ],\n",
    "        \"date\": date(2022, 3, 29),\n",
    "    },\n",
    "    {\n",
    "        \"subject_id\": \"rbndt002\",\n",
    "        \"acquisition_type\": \"t2_mri\",\n",
    "        \"tags\": [\"image\", \"mri\", \"T2\", \"acquisition\"],\n",
    "        \"format\": \"DICOM\",\n",
    "        \"files\": [\n",
    "            \"/somewhere/l729633/acq0001.dcm\",\n",
    "            \"/somewhere/l729633/acq0002.dcm\",\n",
    "            \"/somewhere/l729633/acq0003.dcm\",\n",
    "            \"/somewhere/l729633/acq0004.dcm\",\n",
    "        ],\n",
    "        \"date\": date(2022, 3, 29),\n",
    "    },\n",
    "    {\n",
    "        \"subject_id\": \"rbndt001\",\n",
    "        \"acquisition_type\": \"t1_mri\",\n",
    "        \"tags\": [\"image\", \"mri\", \"t1\", \"converted\", \"bids\"],\n",
    "        \"format\": \"NIFTI\",\n",
    "        \"files\": [\n",
    "            \"/elsewhere/rbndt001/sub-rbndt001-t1.nii\",\n",
    "        ],\n",
    "        \"date\": date(2022, 3, 28),\n",
    "    },\n",
    "    {\n",
    "        \"subject_id\": \"rbndt001\",\n",
    "        \"acquisition_type\": \"t2_mri\",\n",
    "        \"tags\": [\"image\", \"mri\", \"t2\", \"converted\", \"bids\"],\n",
    "        \"format\": \"NIFTI\",\n",
    "        \"files\": [\n",
    "            \"/elsewhere/rbndt001/sub-rbndt001-t2.nii\",\n",
    "        ],\n",
    "        \"date\": date(2022, 3, 28),\n",
    "    },\n",
    "    {\n",
    "        \"subject_id\": \"rbndt002\",\n",
    "        \"acquisition_type\": \"t1_mri\",\n",
    "        \"tags\": [\"image\", \"mri\", \"t1\", \"converted\", \"bids\"],\n",
    "        \"format\": \"NIFTI\",\n",
    "        \"files\": [\n",
    "            \"/elsewhere/rbndt002/sub-rbndt002-t1.nii\",\n",
    "        ],\n",
    "        \"date\": date(2022, 3, 29),\n",
    "    },\n",
    "    {\n",
    "        \"subject_id\": \"rbndt002\",\n",
    "        \"acquisition_type\": \"t2_mri\",\n",
    "        \"tags\": [\"image\", \"mri\", \"t2\", \"converted\", \"bids\"],\n",
    "        \"format\": \"NIFTI\",\n",
    "        \"files\": [\n",
    "            \"/elsewhere/rbndt002/sub-rbndt002-t2.nii\",\n",
    "        ],\n",
    "        \"date\": date(2022, 3, 29),\n",
    "    },\n",
    "]"
   ]
  },
  {
   "cell_type": "code",
   "execution_count": 5,
   "id": "b813fd22-3275-45c4-9e9f-dc23ae1d4db4",
   "metadata": {},
   "outputs": [
    {
     "name": "stdout",
     "output_type": "stream",
     "text": [
      "SELECT name FROM sqlite_master WHERE type='table'\n",
      "CREATE TABLE [_] ([_] str NOT NULL,_catchall dict,PRIMARY KEY ([_]))\n",
      "pragma table_info([_])\n",
      "INSERT OR REPLACE INTO [_] ([_],[_catchall]) values (?,?) ['_', '{}']\n",
      "ALTER TABLE [_] ADD COLUMN [last_modified] datetime\n",
      "CREATE TABLE IF NOT EXISTS [populse_db] (category TEXT NOT NULL,key TEXT NOT NULL,_json TEXT,PRIMARY KEY (category, key))\n",
      "INSERT OR REPLACE INTO populse_db (category, key, _json) VALUES (?,?,?) ['collection', '_', '{\"fields\":{\"last_modified\":{\"description\":null,\"index\":false,\"bad_json\":false}}}']\n",
      "UPDATE [_] SET [last_modified]=? WHERE [_]=? ['2024-06-25T15:07:24.899670', '_']\n",
      "ALTER TABLE [_] ADD COLUMN [subjects] list\n",
      "SELECT _json FROM [populse_db] WHERE category=? and key=? ['collection', '_']\n",
      "INSERT OR REPLACE INTO populse_db (category, key, _json) VALUES (?,?,?) ['collection', '_', '{\"fields\":{\"last_modified\":{\"description\":null,\"index\":false,\"bad_json\":false},\"subjects\":{\"description\":null,\"index\":false,\"bad_json\":true}}}']\n",
      "SELECT _json FROM [populse_db] WHERE category=? and key=? ['collection', '_']\n",
      "INSERT OR REPLACE INTO populse_db (category, key, _json) VALUES (?,?,?) ['collection', '_', '{\"fields\":{\"last_modified\":{\"description\":null,\"index\":false,\"bad_json\":false},\"subjects\":{\"description\":null,\"index\":false,\"bad_json\":true}}}']\n",
      "UPDATE [_] SET [subjects]=? WHERE [_]=? ['[{\"subject_id\":\"rbndt001\",\"name\":\"El\\\\u00e9a\",\"sex\":\"f\",\"birth_date\":\"1968-03-01\\\\u2139date\\\\u2139\"},{\"subject_id\":\"rbndt002\",\"name\":\"Pa\\\\u00efkan\",\"sex\":\"m\",\"birth_date\":\"1968-03-02\\\\u2139date\\\\u2139\"},{\"subject_id\":\"rbndt003\",\"name\":\"Lukos\",\"sex\":\"m\",\"birth_date\":\"1968-03-03\\\\u2139date\\\\u2139\"}]', '_']\n",
      "ALTER TABLE [_] ADD COLUMN [images] list\n",
      "SELECT _json FROM [populse_db] WHERE category=? and key=? ['collection', '_']\n",
      "INSERT OR REPLACE INTO populse_db (category, key, _json) VALUES (?,?,?) ['collection', '_', '{\"fields\":{\"last_modified\":{\"description\":null,\"index\":false,\"bad_json\":false},\"subjects\":{\"description\":null,\"index\":false,\"bad_json\":true},\"images\":{\"description\":null,\"index\":false,\"bad_json\":true}}}']\n",
      "SELECT _json FROM [populse_db] WHERE category=? and key=? ['collection', '_']\n",
      "INSERT OR REPLACE INTO populse_db (category, key, _json) VALUES (?,?,?) ['collection', '_', '{\"fields\":{\"last_modified\":{\"description\":null,\"index\":false,\"bad_json\":false},\"subjects\":{\"description\":null,\"index\":false,\"bad_json\":true},\"images\":{\"description\":null,\"index\":false,\"bad_json\":true}}}']\n",
      "UPDATE [_] SET [images]=? WHERE [_]=? ['[{\"subject_id\":\"rbndt001\",\"acquisition_type\":\"t1_mri\",\"tags\":[\"image\",\"mri\",\"t1\",\"acquisition\"],\"format\":\"DICOM\",\"files\":[\"/somewhere/d345653/acq0001.dcm\",\"/somewhere/d345653/acq0002.dcm\",\"/somewhere/d345653/acq0003.dcm\",\"/somewhere/d345653/acq0004.dcm\"],\"date\":\"2022-03-28\\\\u2139date\\\\u2139\"},{\"subject_id\":\"rbndt001\",\"acquisition_type\":\"t2_mri\",\"tags\":[\"image\",\"mri\",\"T2\",\"acquisition\"],\"format\":\"DICOM\",\"files\":[\"/somewhere/e465475/acq0001.dcm\",\"/somewhere/e465475/acq0002.dcm\",\"/somewhere/e465475/acq0003.dcm\",\"/somewhere/e465475/acq0004.dcm\"],\"date\":\"2022-03-28\\\\u2139date\\\\u2139\"},{\"subject_id\":\"rbndt002\",\"acquisition_type\":\"t1_mri\",\"tags\":[\"image\",\"mri\",\"t1\",\"acquisition\"],\"format\":\"DICOM\",\"files\":[\"/somewhere/f569012/acq0001.dcm\",\"/somewhere/f569012/acq0002.dcm\",\"/somewhere/f569012/acq0003.dcm\",\"/somewhere/f569012/acq0004.dcm\"],\"date\":\"2022-03-29\\\\u2139date\\\\u2139\"},{\"subject_id\":\"rbndt002\",\"acquisition_type\":\"t2_mri\",\"tags\":[\"image\",\"mri\",\"T2\",\"acquisition\"],\"format\":\"DICOM\",\"files\":[\"/somewhere/l729633/acq0001.dcm\",\"/somewhere/l729633/acq0002.dcm\",\"/somewhere/l729633/acq0003.dcm\",\"/somewhere/l729633/acq0004.dcm\"],\"date\":\"2022-03-29\\\\u2139date\\\\u2139\"},{\"subject_id\":\"rbndt001\",\"acquisition_type\":\"t1_mri\",\"tags\":[\"image\",\"mri\",\"t1\",\"converted\",\"bids\"],\"format\":\"NIFTI\",\"files\":[\"/elsewhere/rbndt001/sub-rbndt001-t1.nii\"],\"date\":\"2022-03-28\\\\u2139date\\\\u2139\"},{\"subject_id\":\"rbndt001\",\"acquisition_type\":\"t2_mri\",\"tags\":[\"image\",\"mri\",\"t2\",\"converted\",\"bids\"],\"format\":\"NIFTI\",\"files\":[\"/elsewhere/rbndt001/sub-rbndt001-t2.nii\"],\"date\":\"2022-03-28\\\\u2139date\\\\u2139\"},{\"subject_id\":\"rbndt002\",\"acquisition_type\":\"t1_mri\",\"tags\":[\"image\",\"mri\",\"t1\",\"converted\",\"bids\"],\"format\":\"NIFTI\",\"files\":[\"/elsewhere/rbndt002/sub-rbndt002-t1.nii\"],\"date\":\"2022-03-29\\\\u2139date\\\\u2139\"},{\"subject_id\":\"rbndt002\",\"acquisition_type\":\"t2_mri\",\"tags\":[\"image\",\"mri\",\"t2\",\"converted\",\"bids\"],\"format\":\"NIFTI\",\"files\":[\"/elsewhere/rbndt002/sub-rbndt002-t2.nii\"],\"date\":\"2022-03-29\\\\u2139date\\\\u2139\"}]', '_']\n"
     ]
    }
   ],
   "source": [
    "import os\n",
    "import sys\n",
    "from datetime import date, datetime\n",
    "\n",
    "from populse_db import Storage\n",
    "\n",
    "db_path = \"/tmp/populse_db.sqlite\"\n",
    "if os.path.exists(db_path):\n",
    "    os.remove(db_path)\n",
    "storage = Storage(db_path, echo_sql=sys.stdout)\n",
    "\n",
    "# Create a read/write session\n",
    "with storage.data(write=True, create=True) as data:\n",
    "    data.last_modified = datetime.now()\n",
    "\n",
    "    # Store documents in the database\n",
    "    data.subjects = subjects\n",
    "    data[\"images\"] = images\n"
   ]
  },
  {
   "cell_type": "code",
   "execution_count": 6,
   "id": "2a567266-9094-4c98-b2b6-9b2b5229eeb8",
   "metadata": {},
   "outputs": [
    {
     "name": "stdout",
     "output_type": "stream",
     "text": [
      "SELECT name FROM sqlite_master WHERE type='table'\n",
      "SELECT _json FROM [populse_db] WHERE category=? and key=? ['collection', '_']\n",
      "SELECT _json FROM [populse_db] WHERE category=? and key=? ['collection', '_']\n",
      "pragma table_info([_])\n",
      "SELECT [subjects] FROM [_] WHERE [_] = ? ('_',)\n",
      "SELECT [images] FROM [_] WHERE [_] = ? ('_',)\n"
     ]
    },
    {
     "data": {
      "text/plain": [
       "[{'subject_id': 'rbndt001',\n",
       "  'name': 'Eléa',\n",
       "  'sex': 'f',\n",
       "  'birth_date': datetime.date(1968, 3, 1)},\n",
       " {'subject_id': 'rbndt002',\n",
       "  'name': 'Païkan',\n",
       "  'sex': 'm',\n",
       "  'birth_date': datetime.date(1968, 3, 2)},\n",
       " {'subject_id': 'rbndt003',\n",
       "  'name': 'Lukos',\n",
       "  'sex': 'm',\n",
       "  'birth_date': datetime.date(1968, 3, 3)}]"
      ]
     },
     "execution_count": 6,
     "metadata": {},
     "output_type": "execute_result"
    }
   ],
   "source": [
    "with storage.data() as data:\n",
    "    subjects = data.subjects.get()\n",
    "    images = data.images.get()\n",
    "subjects"
   ]
  },
  {
   "cell_type": "code",
   "execution_count": 7,
   "id": "e0239c77-a219-40c7-80b1-db40dfa45be3",
   "metadata": {},
   "outputs": [
    {
     "data": {
      "text/plain": [
       "[{'subject_id': 'rbndt001',\n",
       "  'acquisition_type': 't1_mri',\n",
       "  'tags': ['image', 'mri', 't1', 'acquisition'],\n",
       "  'format': 'DICOM',\n",
       "  'files': ['/somewhere/d345653/acq0001.dcm',\n",
       "   '/somewhere/d345653/acq0002.dcm',\n",
       "   '/somewhere/d345653/acq0003.dcm',\n",
       "   '/somewhere/d345653/acq0004.dcm'],\n",
       "  'date': datetime.date(2022, 3, 28)},\n",
       " {'subject_id': 'rbndt001',\n",
       "  'acquisition_type': 't2_mri',\n",
       "  'tags': ['image', 'mri', 'T2', 'acquisition'],\n",
       "  'format': 'DICOM',\n",
       "  'files': ['/somewhere/e465475/acq0001.dcm',\n",
       "   '/somewhere/e465475/acq0002.dcm',\n",
       "   '/somewhere/e465475/acq0003.dcm',\n",
       "   '/somewhere/e465475/acq0004.dcm'],\n",
       "  'date': datetime.date(2022, 3, 28)},\n",
       " {'subject_id': 'rbndt002',\n",
       "  'acquisition_type': 't1_mri',\n",
       "  'tags': ['image', 'mri', 't1', 'acquisition'],\n",
       "  'format': 'DICOM',\n",
       "  'files': ['/somewhere/f569012/acq0001.dcm',\n",
       "   '/somewhere/f569012/acq0002.dcm',\n",
       "   '/somewhere/f569012/acq0003.dcm',\n",
       "   '/somewhere/f569012/acq0004.dcm'],\n",
       "  'date': datetime.date(2022, 3, 29)},\n",
       " {'subject_id': 'rbndt002',\n",
       "  'acquisition_type': 't2_mri',\n",
       "  'tags': ['image', 'mri', 'T2', 'acquisition'],\n",
       "  'format': 'DICOM',\n",
       "  'files': ['/somewhere/l729633/acq0001.dcm',\n",
       "   '/somewhere/l729633/acq0002.dcm',\n",
       "   '/somewhere/l729633/acq0003.dcm',\n",
       "   '/somewhere/l729633/acq0004.dcm'],\n",
       "  'date': datetime.date(2022, 3, 29)}]"
      ]
     },
     "execution_count": 7,
     "metadata": {},
     "output_type": "execute_result"
    }
   ],
   "source": [
    "[i for i in images if \"acquisition\" in i[\"tags\"]]"
   ]
  },
  {
   "cell_type": "code",
   "execution_count": 9,
   "id": "7a02a7df-157e-475b-8b3f-5bc8efb7b8e9",
   "metadata": {},
   "outputs": [
    {
     "name": "stdout",
     "output_type": "stream",
     "text": [
      "SELECT name FROM sqlite_master WHERE type='table'\n",
      "CREATE TABLE [_] ([_] str NOT NULL,_catchall dict,PRIMARY KEY ([_]))\n",
      "pragma table_info([_])\n",
      "INSERT OR REPLACE INTO [_] ([_],[_catchall]) values (?,?) ['_', '{}']\n",
      "CREATE TABLE [subjects] ([subject_id] str NOT NULL,_catchall dict,PRIMARY KEY ([subject_id]))\n",
      "pragma table_info([subjects])\n",
      "CREATE TABLE [images] ([subject_id] str NOT NULL,[acquisition_type] str NOT NULL,[format] str NOT NULL,_catchall dict,PRIMARY KEY ([subject_id],[acquisition_type],[format]))\n",
      "pragma table_info([images])\n",
      "SELECT name FROM sqlite_master WHERE type='table'\n",
      "pragma table_info([_])\n",
      "pragma table_info([subjects])\n",
      "pragma table_info([images])\n",
      "ALTER TABLE [_] ADD COLUMN [last_modified] datetime\n",
      "CREATE TABLE IF NOT EXISTS [populse_db] (category TEXT NOT NULL,key TEXT NOT NULL,_json TEXT,PRIMARY KEY (category, key))\n",
      "INSERT OR REPLACE INTO populse_db (category, key, _json) VALUES (?,?,?) ['collection', '_', '{\"fields\":{\"last_modified\":{\"description\":null,\"index\":false,\"bad_json\":false}}}']\n",
      "UPDATE [_] SET [last_modified]=? WHERE [_]=? ['2024-06-25T15:08:40.900557', '_']\n",
      "DELETE FROM [subjects]\n",
      "ALTER TABLE [subjects] ADD COLUMN [birth_date] date\n",
      "SELECT _json FROM [populse_db] WHERE category=? and key=? ['collection', 'subjects']\n",
      "INSERT OR REPLACE INTO populse_db (category, key, _json) VALUES (?,?,?) ['collection', 'subjects', '{\"fields\":{\"birth_date\":{\"description\":null,\"index\":false,\"bad_json\":false}}}']\n",
      "INSERT INTO [subjects] ([subject_id],[birth_date],[_catchall]) values (?,?,?) ['rbndt001', '1968-03-01', '{\"name\":\"El\\\\u00e9a\",\"sex\":\"f\"}']\n",
      "INSERT INTO [subjects] ([subject_id],[birth_date],[_catchall]) values (?,?,?) ['rbndt002', '1968-03-02', '{\"name\":\"Pa\\\\u00efkan\",\"sex\":\"m\"}']\n",
      "INSERT INTO [subjects] ([subject_id],[birth_date],[_catchall]) values (?,?,?) ['rbndt003', '1968-03-03', '{\"name\":\"Lukos\",\"sex\":\"m\"}']\n",
      "DELETE FROM [images]\n",
      "ALTER TABLE [images] ADD COLUMN [date] date\n",
      "SELECT _json FROM [populse_db] WHERE category=? and key=? ['collection', 'images']\n",
      "INSERT OR REPLACE INTO populse_db (category, key, _json) VALUES (?,?,?) ['collection', 'images', '{\"fields\":{\"date\":{\"description\":null,\"index\":false,\"bad_json\":false}}}']\n",
      "INSERT INTO [images] ([subject_id],[acquisition_type],[format],[date],[_catchall]) values (?,?,?,?,?) ['rbndt001', 't1_mri', 'DICOM', '2022-03-28', '{\"tags\":[\"image\",\"mri\",\"t1\",\"acquisition\"],\"files\":[\"/somewhere/d345653/acq0001.dcm\",\"/somewhere/d345653/acq0002.dcm\",\"/somewhere/d345653/acq0003.dcm\",\"/somewhere/d345653/acq0004.dcm\"]}']\n",
      "INSERT INTO [images] ([subject_id],[acquisition_type],[format],[date],[_catchall]) values (?,?,?,?,?) ['rbndt001', 't2_mri', 'DICOM', '2022-03-28', '{\"tags\":[\"image\",\"mri\",\"T2\",\"acquisition\"],\"files\":[\"/somewhere/e465475/acq0001.dcm\",\"/somewhere/e465475/acq0002.dcm\",\"/somewhere/e465475/acq0003.dcm\",\"/somewhere/e465475/acq0004.dcm\"]}']\n",
      "INSERT INTO [images] ([subject_id],[acquisition_type],[format],[date],[_catchall]) values (?,?,?,?,?) ['rbndt002', 't1_mri', 'DICOM', '2022-03-29', '{\"tags\":[\"image\",\"mri\",\"t1\",\"acquisition\"],\"files\":[\"/somewhere/f569012/acq0001.dcm\",\"/somewhere/f569012/acq0002.dcm\",\"/somewhere/f569012/acq0003.dcm\",\"/somewhere/f569012/acq0004.dcm\"]}']\n",
      "INSERT INTO [images] ([subject_id],[acquisition_type],[format],[date],[_catchall]) values (?,?,?,?,?) ['rbndt002', 't2_mri', 'DICOM', '2022-03-29', '{\"tags\":[\"image\",\"mri\",\"T2\",\"acquisition\"],\"files\":[\"/somewhere/l729633/acq0001.dcm\",\"/somewhere/l729633/acq0002.dcm\",\"/somewhere/l729633/acq0003.dcm\",\"/somewhere/l729633/acq0004.dcm\"]}']\n",
      "INSERT INTO [images] ([subject_id],[acquisition_type],[format],[date],[_catchall]) values (?,?,?,?,?) ['rbndt001', 't1_mri', 'NIFTI', '2022-03-28', '{\"tags\":[\"image\",\"mri\",\"t1\",\"converted\",\"bids\"],\"files\":[\"/elsewhere/rbndt001/sub-rbndt001-t1.nii\"]}']\n",
      "INSERT INTO [images] ([subject_id],[acquisition_type],[format],[date],[_catchall]) values (?,?,?,?,?) ['rbndt001', 't2_mri', 'NIFTI', '2022-03-28', '{\"tags\":[\"image\",\"mri\",\"t2\",\"converted\",\"bids\"],\"files\":[\"/elsewhere/rbndt001/sub-rbndt001-t2.nii\"]}']\n",
      "INSERT INTO [images] ([subject_id],[acquisition_type],[format],[date],[_catchall]) values (?,?,?,?,?) ['rbndt002', 't1_mri', 'NIFTI', '2022-03-29', '{\"tags\":[\"image\",\"mri\",\"t1\",\"converted\",\"bids\"],\"files\":[\"/elsewhere/rbndt002/sub-rbndt002-t1.nii\"]}']\n",
      "INSERT INTO [images] ([subject_id],[acquisition_type],[format],[date],[_catchall]) values (?,?,?,?,?) ['rbndt002', 't2_mri', 'NIFTI', '2022-03-29', '{\"tags\":[\"image\",\"mri\",\"t2\",\"converted\",\"bids\"],\"files\":[\"/elsewhere/rbndt002/sub-rbndt002-t2.nii\"]}']\n"
     ]
    }
   ],
   "source": [
    "if os.path.exists(db_path):\n",
    "    os.remove(db_path)\n",
    "storage = Storage(db_path, echo_sql=sys.stdout)\n",
    "with storage.schema() as schema:\n",
    "    schema.add_collection('subjects', 'subject_id')\n",
    "    schema.add_collection('images', ('subject_id', 'acquisition_type', 'format'))\n",
    "\n",
    "with storage.data(write=True) as data:\n",
    "    data.last_modified = datetime.now()\n",
    "\n",
    "    # Store documents in the database\n",
    "    data.subjects = subjects\n",
    "    data.images = images"
   ]
  },
  {
   "cell_type": "code",
   "execution_count": 10,
   "id": "19c45818-5d90-4a60-972b-c36404cf620f",
   "metadata": {},
   "outputs": [
    {
     "name": "stdout",
     "output_type": "stream",
     "text": [
      "SELECT name FROM sqlite_master WHERE type='table'\n",
      "SELECT _json FROM [populse_db] WHERE category=? and key=? ['collection', '_']\n",
      "SELECT _json FROM [populse_db] WHERE category=? and key=? ['collection', '_']\n",
      "pragma table_info([_])\n",
      "SELECT _json FROM [populse_db] WHERE category=? and key=? ['collection', 'subjects']\n",
      "SELECT _json FROM [populse_db] WHERE category=? and key=? ['collection', 'subjects']\n",
      "pragma table_info([subjects])\n",
      "SELECT _json FROM [populse_db] WHERE category=? and key=? ['collection', 'images']\n",
      "SELECT _json FROM [populse_db] WHERE category=? and key=? ['collection', 'images']\n",
      "pragma table_info([images])\n",
      "SELECT [subject_id],[birth_date],_catchall FROM [subjects] WHERE [subject_id] = ? ('rbndt001',)\n"
     ]
    },
    {
     "data": {
      "text/plain": [
       "{'name': 'Eléa',\n",
       " 'sex': 'f',\n",
       " 'subject_id': 'rbndt001',\n",
       " 'birth_date': datetime.date(1968, 3, 1)}"
      ]
     },
     "execution_count": 10,
     "metadata": {},
     "output_type": "execute_result"
    }
   ],
   "source": [
    "data = storage.start_session(write=True)\n",
    "data.subjects.rbndt001.get()"
   ]
  },
  {
   "cell_type": "code",
   "execution_count": 12,
   "id": "a818d0f2-4ed6-4d5e-b3b5-757332e224a0",
   "metadata": {},
   "outputs": [
    {
     "name": "stdout",
     "output_type": "stream",
     "text": [
      "UPDATE [subjects] SET [_catchall]=json_patch(IFNULL([_catchall],\"{}\"),?) WHERE [subject_id]=? ['{\"comment\":\"moved from Paris to Berlin in 2022\"}', 'rbndt001']\n",
      "SELECT [subject_id],[birth_date],_catchall FROM [subjects] WHERE [subject_id] = ? ('rbndt001',)\n"
     ]
    },
    {
     "data": {
      "text/plain": [
       "{'name': 'Eléa',\n",
       " 'sex': 'f',\n",
       " 'comment': 'moved from Paris to Berlin in 2022',\n",
       " 'subject_id': 'rbndt001',\n",
       " 'birth_date': datetime.date(1968, 3, 1)}"
      ]
     },
     "execution_count": 12,
     "metadata": {},
     "output_type": "execute_result"
    }
   ],
   "source": [
    "data.subjects.rbndt001.comment = 'moved from Paris to Berlin in 2022'\n",
    "data.subjects.rbndt001.get()"
   ]
  },
  {
   "cell_type": "code",
   "execution_count": 13,
   "id": "5e330736-1a4a-46e3-ae24-bd9588bcd45c",
   "metadata": {},
   "outputs": [
    {
     "name": "stdout",
     "output_type": "stream",
     "text": [
      "SELECT json_extract([_catchall],'$.name') FROM [subjects] WHERE [subject_id] = ? ('rbndt001',)\n"
     ]
    },
    {
     "data": {
      "text/plain": [
       "'Eléa'"
      ]
     },
     "execution_count": 13,
     "metadata": {},
     "output_type": "execute_result"
    }
   ],
   "source": [
    "data.subjects.rbndt001.name.get()"
   ]
  },
  {
   "cell_type": "code",
   "execution_count": 14,
   "id": "c67ccbb6-c4cc-43c9-a42d-4d96c798f0c8",
   "metadata": {},
   "outputs": [
    {
     "name": "stdout",
     "output_type": "stream",
     "text": [
      "SELECT [subject_id],[acquisition_type],[format],[date],_catchall FROM [images] WHERE json_extract([_catchall],'$.\"tags\"') IS NOT NULL AND 'acquisition' IN (SELECT value FROM json_each(json_extract([_catchall],'$.\"tags\"')))\n"
     ]
    },
    {
     "data": {
      "text/plain": [
       "[{'tags': ['image', 'mri', 't1', 'acquisition'],\n",
       "  'files': ['/somewhere/d345653/acq0001.dcm',\n",
       "   '/somewhere/d345653/acq0002.dcm',\n",
       "   '/somewhere/d345653/acq0003.dcm',\n",
       "   '/somewhere/d345653/acq0004.dcm'],\n",
       "  'subject_id': 'rbndt001',\n",
       "  'acquisition_type': 't1_mri',\n",
       "  'format': 'DICOM',\n",
       "  'date': datetime.date(2022, 3, 28)},\n",
       " {'tags': ['image', 'mri', 'T2', 'acquisition'],\n",
       "  'files': ['/somewhere/e465475/acq0001.dcm',\n",
       "   '/somewhere/e465475/acq0002.dcm',\n",
       "   '/somewhere/e465475/acq0003.dcm',\n",
       "   '/somewhere/e465475/acq0004.dcm'],\n",
       "  'subject_id': 'rbndt001',\n",
       "  'acquisition_type': 't2_mri',\n",
       "  'format': 'DICOM',\n",
       "  'date': datetime.date(2022, 3, 28)},\n",
       " {'tags': ['image', 'mri', 't1', 'acquisition'],\n",
       "  'files': ['/somewhere/f569012/acq0001.dcm',\n",
       "   '/somewhere/f569012/acq0002.dcm',\n",
       "   '/somewhere/f569012/acq0003.dcm',\n",
       "   '/somewhere/f569012/acq0004.dcm'],\n",
       "  'subject_id': 'rbndt002',\n",
       "  'acquisition_type': 't1_mri',\n",
       "  'format': 'DICOM',\n",
       "  'date': datetime.date(2022, 3, 29)},\n",
       " {'tags': ['image', 'mri', 'T2', 'acquisition'],\n",
       "  'files': ['/somewhere/l729633/acq0001.dcm',\n",
       "   '/somewhere/l729633/acq0002.dcm',\n",
       "   '/somewhere/l729633/acq0003.dcm',\n",
       "   '/somewhere/l729633/acq0004.dcm'],\n",
       "  'subject_id': 'rbndt002',\n",
       "  'acquisition_type': 't2_mri',\n",
       "  'format': 'DICOM',\n",
       "  'date': datetime.date(2022, 3, 29)}]"
      ]
     },
     "execution_count": 14,
     "metadata": {},
     "output_type": "execute_result"
    }
   ],
   "source": [
    "data.images.search('\"acquisition\" in tags')"
   ]
  },
  {
   "cell_type": "code",
   "execution_count": 15,
   "id": "e0fa14a2-376b-4fc4-a2ff-f704d993d07d",
   "metadata": {},
   "outputs": [
    {
     "name": "stdout",
     "output_type": "stream",
     "text": [
      "SELECT [subject_id],[acquisition_type],[format],[date],_catchall FROM [images] WHERE ( json_extract([_catchall],'$.\"tags\"') IS NOT NULL AND 'acquisition' IN (SELECT value FROM json_each(json_extract([_catchall],'$.\"tags\"'))) ) and ( [acquisition_type] IS 't1_mri' )\n"
     ]
    },
    {
     "data": {
      "text/plain": [
       "[{'tags': ['image', 'mri', 't1', 'acquisition'],\n",
       "  'files': ['/somewhere/d345653/acq0001.dcm',\n",
       "   '/somewhere/d345653/acq0002.dcm',\n",
       "   '/somewhere/d345653/acq0003.dcm',\n",
       "   '/somewhere/d345653/acq0004.dcm'],\n",
       "  'subject_id': 'rbndt001',\n",
       "  'acquisition_type': 't1_mri',\n",
       "  'format': 'DICOM',\n",
       "  'date': datetime.date(2022, 3, 28)},\n",
       " {'tags': ['image', 'mri', 't1', 'acquisition'],\n",
       "  'files': ['/somewhere/f569012/acq0001.dcm',\n",
       "   '/somewhere/f569012/acq0002.dcm',\n",
       "   '/somewhere/f569012/acq0003.dcm',\n",
       "   '/somewhere/f569012/acq0004.dcm'],\n",
       "  'subject_id': 'rbndt002',\n",
       "  'acquisition_type': 't1_mri',\n",
       "  'format': 'DICOM',\n",
       "  'date': datetime.date(2022, 3, 29)}]"
      ]
     },
     "execution_count": 15,
     "metadata": {},
     "output_type": "execute_result"
    }
   ],
   "source": [
    "data.images.search('\"acquisition\" in tags and acquisition_type == \"t1_mri\"')"
   ]
  },
  {
   "cell_type": "code",
   "execution_count": 16,
   "id": "8701c160-7998-4921-89ad-4ed90be7bb9c",
   "metadata": {},
   "outputs": [
    {
     "name": "stdout",
     "output_type": "stream",
     "text": [
      "SELECT [subject_id],[birth_date],_catchall FROM [subjects] WHERE json_extract([_catchall],'$.\"comment\"') IS NOT NULL\n"
     ]
    },
    {
     "data": {
      "text/plain": [
       "[{'name': 'Eléa',\n",
       "  'sex': 'f',\n",
       "  'comment': 'moved from Paris to Berlin in 2022',\n",
       "  'subject_id': 'rbndt001',\n",
       "  'birth_date': datetime.date(1968, 3, 1)}]"
      ]
     },
     "execution_count": 16,
     "metadata": {},
     "output_type": "execute_result"
    }
   ],
   "source": [
    "data.subjects.search('comment != null')"
   ]
  },
  {
   "cell_type": "code",
   "execution_count": null,
   "id": "f975283d-cce8-409f-97cb-1da4a6f5527d",
   "metadata": {},
   "outputs": [],
   "source": []
  }
 ],
 "metadata": {
  "kernelspec": {
   "display_name": "Python 3 (ipykernel)",
   "language": "python",
   "name": "python3"
  },
  "language_info": {
   "codemirror_mode": {
    "name": "ipython",
    "version": 3
   },
   "file_extension": ".py",
   "mimetype": "text/x-python",
   "name": "python",
   "nbconvert_exporter": "python",
   "pygments_lexer": "ipython3",
   "version": "3.12.4"
  }
 },
 "nbformat": 4,
 "nbformat_minor": 5
}
