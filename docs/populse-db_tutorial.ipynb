{
 "cells": [
  {
   "cell_type": "code",
   "execution_count": null,
   "id": "12f155d6-f024-4278-9db8-88671e3026da",
   "metadata": {},
   "outputs": [],
   "source": [
    "from datetime import date\n",
    "\n",
    "subjects = [\n",
    "    {\n",
    "        \"subject_id\": \"rbndt001\",\n",
    "        \"name\": \"Eléa\",\n",
    "        \"sex\": \"f\",\n",
    "        \"birth_date\": date(1968, 3, 1),\n",
    "    },\n",
    "    {\n",
    "        \"subject_id\": \"rbndt002\",\n",
    "        \"name\": \"Païkan\",\n",
    "        \"sex\": \"m\",\n",
    "        \"birth_date\": date(1968, 3, 2),\n",
    "    },\n",
    "    {\n",
    "        \"subject_id\": \"rbndt003\",\n",
    "        \"name\": \"Lukos\",\n",
    "        \"sex\": \"m\",\n",
    "        \"birth_date\": date(1968, 3, 3),\n",
    "    },\n",
    "]\n",
    "\n",
    "images = [\n",
    "    {\n",
    "        \"subject_id\": \"rbndt001\",\n",
    "        \"acquisition_type\": \"t1_mri\",\n",
    "        \"tags\": [\"image\", \"mri\", \"t1\", \"acquisition\"],\n",
    "        \"format\": \"DICOM\",\n",
    "        \"files\": [\n",
    "            \"/somewhere/d345653/acq0001.dcm\",\n",
    "            \"/somewhere/d345653/acq0002.dcm\",\n",
    "            \"/somewhere/d345653/acq0003.dcm\",\n",
    "            \"/somewhere/d345653/acq0004.dcm\",\n",
    "        ],\n",
    "        \"date\": date(2022, 3, 28),\n",
    "    },\n",
    "    {\n",
    "        \"subject_id\": \"rbndt001\",\n",
    "        \"acquisition_type\": \"t2_mri\",\n",
    "        \"tags\": [\"image\", \"mri\", \"T2\", \"acquisition\"],\n",
    "        \"format\": \"DICOM\",\n",
    "        \"files\": [\n",
    "            \"/somewhere/e465475/acq0001.dcm\",\n",
    "            \"/somewhere/e465475/acq0002.dcm\",\n",
    "            \"/somewhere/e465475/acq0003.dcm\",\n",
    "            \"/somewhere/e465475/acq0004.dcm\",\n",
    "        ],\n",
    "        \"date\": date(2022, 3, 28),\n",
    "    },\n",
    "    {\n",
    "        \"subject_id\": \"rbndt002\",\n",
    "        \"acquisition_type\": \"t1_mri\",\n",
    "        \"tags\": [\"image\", \"mri\", \"t1\", \"acquisition\"],\n",
    "        \"format\": \"DICOM\",\n",
    "        \"files\": [\n",
    "            \"/somewhere/f569012/acq0001.dcm\",\n",
    "            \"/somewhere/f569012/acq0002.dcm\",\n",
    "            \"/somewhere/f569012/acq0003.dcm\",\n",
    "            \"/somewhere/f569012/acq0004.dcm\",\n",
    "        ],\n",
    "        \"date\": date(2022, 3, 29),\n",
    "    },\n",
    "    {\n",
    "        \"subject_id\": \"rbndt002\",\n",
    "        \"acquisition_type\": \"t2_mri\",\n",
    "        \"tags\": [\"image\", \"mri\", \"T2\", \"acquisition\"],\n",
    "        \"format\": \"DICOM\",\n",
    "        \"files\": [\n",
    "            \"/somewhere/l729633/acq0001.dcm\",\n",
    "            \"/somewhere/l729633/acq0002.dcm\",\n",
    "            \"/somewhere/l729633/acq0003.dcm\",\n",
    "            \"/somewhere/l729633/acq0004.dcm\",\n",
    "        ],\n",
    "        \"date\": date(2022, 3, 29),\n",
    "    },\n",
    "    {\n",
    "        \"subject_id\": \"rbndt001\",\n",
    "        \"acquisition_type\": \"t1_mri\",\n",
    "        \"tags\": [\"image\", \"mri\", \"t1\", \"converted\", \"bids\"],\n",
    "        \"format\": \"NIFTI\",\n",
    "        \"files\": [\n",
    "            \"/elsewhere/rbndt001/sub-rbndt001-t1.nii\",\n",
    "        ],\n",
    "        \"date\": date(2022, 3, 28),\n",
    "    },\n",
    "    {\n",
    "        \"subject_id\": \"rbndt001\",\n",
    "        \"acquisition_type\": \"t2_mri\",\n",
    "        \"tags\": [\"image\", \"mri\", \"t2\", \"converted\", \"bids\"],\n",
    "        \"format\": \"NIFTI\",\n",
    "        \"files\": [\n",
    "            \"/elsewhere/rbndt001/sub-rbndt001-t2.nii\",\n",
    "        ],\n",
    "        \"date\": date(2022, 3, 28),\n",
    "    },\n",
    "    {\n",
    "        \"subject_id\": \"rbndt002\",\n",
    "        \"acquisition_type\": \"t1_mri\",\n",
    "        \"tags\": [\"image\", \"mri\", \"t1\", \"converted\", \"bids\"],\n",
    "        \"format\": \"NIFTI\",\n",
    "        \"files\": [\n",
    "            \"/elsewhere/rbndt002/sub-rbndt002-t1.nii\",\n",
    "        ],\n",
    "        \"date\": date(2022, 3, 29),\n",
    "    },\n",
    "    {\n",
    "        \"subject_id\": \"rbndt002\",\n",
    "        \"acquisition_type\": \"t2_mri\",\n",
    "        \"tags\": [\"image\", \"mri\", \"t2\", \"converted\", \"bids\"],\n",
    "        \"format\": \"NIFTI\",\n",
    "        \"files\": [\n",
    "            \"/elsewhere/rbndt002/sub-rbndt002-t2.nii\",\n",
    "        ],\n",
    "        \"date\": date(2022, 3, 29),\n",
    "    },\n",
    "]"
   ]
  },
  {
   "cell_type": "code",
   "execution_count": null,
   "id": "b813fd22-3275-45c4-9e9f-dc23ae1d4db4",
   "metadata": {},
   "outputs": [],
   "source": [
    "from datetime import date, datetime\n",
    "import os\n",
    "import sys\n",
    "from populse_db import Storage\n",
    "\n",
    "db_path = \"/tmp/populse_db.sqlite\"\n",
    "if os.path.exists(db_path):\n",
    "    os.remove(db_path)\n",
    "storage = Storage(db_path, echo_sql=sys.stdout)\n",
    "\n",
    "# Create a read/write session\n",
    "with storage.data(write=True, create=True) as data:\n",
    "    # Store global value\n",
    "    data.last_modified = datetime.now()\n",
    "\n",
    "    # Store documents in the database\n",
    "    data.subjects = subjects\n",
    "    data[\"images\"] = images\n"
   ]
  },
  {
   "cell_type": "code",
   "execution_count": null,
   "id": "2a567266-9094-4c98-b2b6-9b2b5229eeb8",
   "metadata": {},
   "outputs": [],
   "source": [
    "with storage.data() as data:\n",
    "    subjects = data.subjects.get()\n",
    "    images = data.images.get()\n",
    "subjects"
   ]
  },
  {
   "cell_type": "code",
   "execution_count": null,
   "id": "e0239c77-a219-40c7-80b1-db40dfa45be3",
   "metadata": {},
   "outputs": [],
   "source": [
    "[i for i in images if \"acquisition\" in i[\"tags\"]]"
   ]
  },
  {
   "cell_type": "code",
   "execution_count": null,
   "id": "7a02a7df-157e-475b-8b3f-5bc8efb7b8e9",
   "metadata": {},
   "outputs": [],
   "source": [
    "if os.path.exists(db_path):\n",
    "    os.remove(db_path)\n",
    "storage = Storage(db_path, echo_sql=sys.stdout)\n",
    "with storage.schema() as schema:\n",
    "    schema.add_collection('subjects', 'subject_id')\n",
    "    schema.add_collection('images', ('subject_id', 'acquisition_type', 'format'))\n",
    "\n",
    "with storage.data(write=True) as data:\n",
    "    data.last_modified = datetime.now()\n",
    "\n",
    "    # Store documents in the database\n",
    "    data.subjects = subjects\n",
    "    data.images = images"
   ]
  },
  {
   "cell_type": "code",
   "execution_count": null,
   "id": "19c45818-5d90-4a60-972b-c36404cf620f",
   "metadata": {},
   "outputs": [],
   "source": [
    "data = storage.start_session(write=True)\n",
    "data.subjects.rbndt001.get()"
   ]
  },
  {
   "cell_type": "code",
   "execution_count": null,
   "id": "a818d0f2-4ed6-4d5e-b3b5-757332e224a0",
   "metadata": {},
   "outputs": [],
   "source": [
    "data.subjects.rbndt001.comment = 'moved from Paris to Berlin in 2022'\n",
    "data.subjects.rbndt001.get()"
   ]
  },
  {
   "cell_type": "code",
   "execution_count": null,
   "id": "5e330736-1a4a-46e3-ae24-bd9588bcd45c",
   "metadata": {},
   "outputs": [],
   "source": [
    "data.subjects.rbndt001.name.get()"
   ]
  },
  {
   "cell_type": "code",
   "execution_count": null,
   "id": "664af5da-324f-4516-91ec-5a113cdc7934",
   "metadata": {},
   "outputs": [],
   "source": [
    "data.images['subject_id', 't1_mri', 'DICOM'].get()"
   ]
  },
  {
   "cell_type": "code",
   "execution_count": null,
   "id": "c67ccbb6-c4cc-43c9-a42d-4d96c798f0c8",
   "metadata": {},
   "outputs": [],
   "source": [
    "data.images.search('\"acquisition\" in tags')"
   ]
  },
  {
   "cell_type": "code",
   "execution_count": null,
   "id": "e0fa14a2-376b-4fc4-a2ff-f704d993d07d",
   "metadata": {},
   "outputs": [],
   "source": [
    "data.images.search('\"acquisition\" in tags and acquisition_type == \"t1_mri\"')"
   ]
  },
  {
   "cell_type": "code",
   "execution_count": null,
   "id": "8701c160-7998-4921-89ad-4ed90be7bb9c",
   "metadata": {},
   "outputs": [],
   "source": [
    "data.subjects.search('comment != null')"
   ]
  },
  {
   "cell_type": "code",
   "execution_count": null,
   "id": "f975283d-cce8-409f-97cb-1da4a6f5527d",
   "metadata": {},
   "outputs": [],
   "source": []
  }
 ],
 "metadata": {
  "kernelspec": {
   "display_name": "Python 3 (ipykernel)",
   "language": "python",
   "name": "python3"
  },
  "language_info": {
   "codemirror_mode": {
    "name": "ipython",
    "version": 3
   },
   "file_extension": ".py",
   "mimetype": "text/x-python",
   "name": "python",
   "nbconvert_exporter": "python",
   "pygments_lexer": "ipython3",
   "version": "3.13.1"
  }
 },
 "nbformat": 4,
 "nbformat_minor": 5
}
